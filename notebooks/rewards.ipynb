{
 "cells": [
  {
   "cell_type": "code",
   "execution_count": 1,
   "metadata": {},
   "outputs": [],
   "source": [
    "import numpy as np\n",
    "import seaborn as sns\n",
    "import math"
   ]
  },
  {
   "cell_type": "code",
   "execution_count": 2,
   "metadata": {},
   "outputs": [],
   "source": [
    "WIDTH = 1000\n",
    "HEIGHT = 800\n",
    "AIRCRAFT_SIZE = 24\n",
    "COLLISION_RADIUS = 2 * AIRCRAFT_SIZE\n",
    "GOAL_RADIUS = 2 * COLLISION_RADIUS\n",
    "SAFE_DISTANCE = 4 * COLLISION_RADIUS\n",
    "\n",
    "FPS = 100\n",
    "AIRSPEED = 120\n",
    "MAX_STEPS = 1200\n",
    "\n",
    "REWARD_GOAL = 1000\n",
    "REWARD_COLLISION = -1000"
   ]
  },
  {
   "cell_type": "code",
   "execution_count": 3,
   "metadata": {},
   "outputs": [],
   "source": [
    "goal_x = WIDTH - GOAL_RADIUS\n",
    "goal_y = HEIGHT / 2\n",
    "\n",
    "d_separation_max = round(np.sqrt(WIDTH**2 + HEIGHT**2)) + (2 * (AIRSPEED / FPS) * MAX_STEPS)\n",
    "d_goal_init = (WIDTH - GOAL_RADIUS) - (2 * AIRCRAFT_SIZE)\n",
    "d_goal_max = d_goal_init + (AIRSPEED / FPS) * MAX_STEPS\n",
    "d_path_max = 2 * (d_goal_init)"
   ]
  },
  {
   "cell_type": "code",
   "execution_count": 4,
   "metadata": {},
   "outputs": [
    {
     "name": "stdout",
     "output_type": "stream",
     "text": [
      "4161.0\n"
     ]
    }
   ],
   "source": [
    "print(d_separation_max)"
   ]
  },
  {
   "cell_type": "code",
   "execution_count": 5,
   "metadata": {},
   "outputs": [
    {
     "name": "stdout",
     "output_type": "stream",
     "text": [
      "856\n"
     ]
    }
   ],
   "source": [
    "print(d_goal_init)"
   ]
  },
  {
   "cell_type": "code",
   "execution_count": 6,
   "metadata": {},
   "outputs": [
    {
     "name": "stdout",
     "output_type": "stream",
     "text": [
      "2296.0\n"
     ]
    }
   ],
   "source": [
    "print(d_goal_max)"
   ]
  },
  {
   "cell_type": "code",
   "execution_count": 7,
   "metadata": {},
   "outputs": [
    {
     "name": "stdout",
     "output_type": "stream",
     "text": [
      "1712\n"
     ]
    }
   ],
   "source": [
    "print(d_path_max)"
   ]
  },
  {
   "cell_type": "code",
   "execution_count": 8,
   "metadata": {},
   "outputs": [],
   "source": [
    "# Path length reward"
   ]
  },
  {
   "cell_type": "code",
   "execution_count": 9,
   "metadata": {},
   "outputs": [],
   "source": [
    "def path_length_reward(d_path, exp=2):\n",
    "    if d_path >= 0:\n",
    "        d_path_max = 2 * (WIDTH + HEIGHT)\n",
    "        return max(0, (1 - d_path / d_path_max) ** exp)\n",
    "    else:\n",
    "        raise ValueError(\"Distance covered cannot be negative.\")"
   ]
  },
  {
   "cell_type": "code",
   "execution_count": 10,
   "metadata": {},
   "outputs": [],
   "source": [
    "dp_values = np.linspace(0, 3 * d_goal_init, 100)\n",
    "rdp_values = np.array([path_length_reward(x) for x in dp_values])"
   ]
  },
  {
   "cell_type": "code",
   "execution_count": 11,
   "metadata": {},
   "outputs": [
    {
     "data": {
      "text/plain": [
       "<seaborn.axisgrid.FacetGrid at 0x1bd0e784c48>"
      ]
     },
     "execution_count": 11,
     "metadata": {},
     "output_type": "execute_result"
    },
    {
     "data": {
      "image/png": "[encoded data removed]",
      "text/plain": [
       "<Figure size 360x360 with 1 Axes>"
      ]
     },
     "metadata": {
      "needs_background": "light"
     },
     "output_type": "display_data"
    }
   ],
   "source": [
    "sns.relplot(x = dp_values, y=rdp_values, kind='line')"
   ]
  },
  {
   "cell_type": "code",
   "execution_count": 12,
   "metadata": {},
   "outputs": [
    {
     "data": {
      "text/plain": [
       "0.5809827160493828"
      ]
     },
     "execution_count": 12,
     "metadata": {},
     "output_type": "execute_result"
    }
   ],
   "source": [
    "path_length_reward(d_goal_init)"
   ]
  },
  {
   "cell_type": "code",
   "execution_count": 13,
   "metadata": {},
   "outputs": [
    {
     "data": {
      "text/plain": [
       "0.25"
      ]
     },
     "execution_count": 13,
     "metadata": {},
     "output_type": "execute_result"
    }
   ],
   "source": [
    "path_length_reward(WIDTH+HEIGHT)"
   ]
  },
  {
   "cell_type": "code",
   "execution_count": 14,
   "metadata": {},
   "outputs": [
    {
     "data": {
      "text/plain": [
       "0"
      ]
     },
     "execution_count": 14,
     "metadata": {},
     "output_type": "execute_result"
    }
   ],
   "source": [
    "path_length_reward(2*(WIDTH+HEIGHT))"
   ]
  },
  {
   "cell_type": "code",
   "execution_count": 15,
   "metadata": {},
   "outputs": [],
   "source": [
    "# Distance reward"
   ]
  },
  {
   "cell_type": "code",
   "execution_count": 16,
   "metadata": {},
   "outputs": [],
   "source": [
    "def distance_reward(d_goal, exp=4):\n",
    "    if d_goal >= 0:\n",
    "        d_goal_init = (WIDTH - GOAL_RADIUS) - (2 * AIRCRAFT_SIZE)\n",
    "        d_goal_max = d_goal_init + (AIRSPEED / FPS) * MAX_STEPS\n",
    "        return min(1, (1 - d_goal / d_goal_max) ** exp)\n",
    "    else:\n",
    "        raise ValueError(\"Distance to goal cannot be negative.\")"
   ]
  },
  {
   "cell_type": "code",
   "execution_count": 17,
   "metadata": {},
   "outputs": [],
   "source": [
    "d_values = np.linspace(0, d_goal_max, 300)\n",
    "rd_values = np.array([distance_reward(x) for x in d_values])"
   ]
  },
  {
   "cell_type": "code",
   "execution_count": 18,
   "metadata": {},
   "outputs": [
    {
     "data": {
      "text/plain": [
       "<seaborn.axisgrid.FacetGrid at 0x1bd0ffda108>"
      ]
     },
     "execution_count": 18,
     "metadata": {},
     "output_type": "execute_result"
    },
    {
     "data": {
      "image/png": "[encoded data removed]",
      "text/plain": [
       "<Figure size 360x360 with 1 Axes>"
      ]
     },
     "metadata": {
      "needs_background": "light"
     },
     "output_type": "display_data"
    }
   ],
   "source": [
    "sns.relplot(x = d_values, y=rd_values, kind='line')"
   ]
  },
  {
   "cell_type": "code",
   "execution_count": 19,
   "metadata": {},
   "outputs": [
    {
     "name": "stdout",
     "output_type": "stream",
     "text": [
      "1\n",
      "0.9189622950516945\n",
      "0.8429526657055691\n",
      "0.7051725641148902\n",
      "0.0\n"
     ]
    }
   ],
   "source": [
    "print(distance_reward(0))\n",
    "print(distance_reward(COLLISION_RADIUS))\n",
    "print(distance_reward(GOAL_RADIUS))\n",
    "print(distance_reward(SAFE_DISTANCE))\n",
    "print(distance_reward(d_goal_max))"
   ]
  },
  {
   "cell_type": "code",
   "execution_count": 20,
   "metadata": {},
   "outputs": [],
   "source": [
    "# Heading reward"
   ]
  },
  {
   "cell_type": "code",
   "execution_count": 21,
   "metadata": {},
   "outputs": [],
   "source": [
    "def delta_heading(psi, phi):\n",
    "    return min(abs(psi-phi), abs(psi-phi-360))"
   ]
  },
  {
   "cell_type": "code",
   "execution_count": 22,
   "metadata": {},
   "outputs": [],
   "source": [
    "def heading_reward(psi, phi, exp=4):\n",
    "    if (0 <= psi <= 360) and (0 <= phi <= 360):\n",
    "        return (1 - delta_heading(psi, phi) / 180) ** exp\n",
    "    else:\n",
    "        raise ValueError(\"Heading and relative angle must be in [0, 360].\")"
   ]
  },
  {
   "cell_type": "code",
   "execution_count": 23,
   "metadata": {},
   "outputs": [],
   "source": [
    "psi_space = np.linspace(0, 360, 361)\n",
    "dh_space = np.array([delta_heading(psi, 0) for psi in psi_space])\n",
    "hr_space = np.array([heading_reward(psi, 0) for psi in psi_space])"
   ]
  },
  {
   "cell_type": "code",
   "execution_count": 24,
   "metadata": {},
   "outputs": [
    {
     "data": {
      "text/plain": [
       "<seaborn.axisgrid.FacetGrid at 0x1bd10063a08>"
      ]
     },
     "execution_count": 24,
     "metadata": {},
     "output_type": "execute_result"
    },
    {
     "data": {
      "image/png": "[encoded data removed]",
      "text/plain": [
       "<Figure size 360x360 with 1 Axes>"
      ]
     },
     "metadata": {
      "needs_background": "light"
     },
     "output_type": "display_data"
    }
   ],
   "source": [
    "sns.relplot(x = psi_space, \n",
    "            y = dh_space,  \n",
    "            kind='line')"
   ]
  },
  {
   "cell_type": "code",
   "execution_count": 25,
   "metadata": {},
   "outputs": [
    {
     "data": {
      "text/plain": [
       "<seaborn.axisgrid.FacetGrid at 0x1bd1004fd88>"
      ]
     },
     "execution_count": 25,
     "metadata": {},
     "output_type": "execute_result"
    },
    {
     "data": {
      "image/png": "[encoded data removed]",
      "text/plain": [
       "<Figure size 360x360 with 1 Axes>"
      ]
     },
     "metadata": {
      "needs_background": "light"
     },
     "output_type": "display_data"
    }
   ],
   "source": [
    "sns.relplot(x = psi_space, \n",
    "            y = hr_space,  \n",
    "            kind='line')"
   ]
  },
  {
   "cell_type": "code",
   "execution_count": 26,
   "metadata": {},
   "outputs": [
    {
     "name": "stdout",
     "output_type": "stream",
     "text": [
      "1.0\n",
      "0.7956199512269471\n",
      "0.7956199512269471\n",
      "0.624295076969974\n",
      "0.624295076969974\n",
      "0.4822530864197532\n",
      "0.4822530864197532\n",
      "0.3659503124523701\n",
      "0.3659503124523701\n"
     ]
    }
   ],
   "source": [
    "phi = 0\n",
    "print(heading_reward(0, phi))\n",
    "print(heading_reward(10, phi))\n",
    "print(heading_reward(350, phi))\n",
    "print(heading_reward(20, phi))\n",
    "print(heading_reward(340, phi))\n",
    "print(heading_reward(30, phi))\n",
    "print(heading_reward(330, phi))\n",
    "print(heading_reward(40, phi))\n",
    "print(heading_reward(320, phi))"
   ]
  },
  {
   "cell_type": "code",
   "execution_count": 27,
   "metadata": {},
   "outputs": [],
   "source": [
    "# Closest point of approach distance reward"
   ]
  },
  {
   "cell_type": "code",
   "execution_count": 28,
   "metadata": {},
   "outputs": [],
   "source": [
    "def closest_approach_reward(v_closing, d_cpa, exp=4):\n",
    "    if v_closing > 0:\n",
    "        return 1\n",
    "    else:\n",
    "        return min(1, (d_cpa / SAFE_DISTANCE) ** exp)"
   ]
  },
  {
   "cell_type": "code",
   "execution_count": 29,
   "metadata": {},
   "outputs": [],
   "source": [
    "v_closing = -1\n",
    "d_values = np.linspace(-1.5 * SAFE_DISTANCE, 1.5 * SAFE_DISTANCE, 300)\n",
    "rc_values = np.array([closest_approach_reward(v_closing, d) for d in d_values])"
   ]
  },
  {
   "cell_type": "code",
   "execution_count": 30,
   "metadata": {},
   "outputs": [
    {
     "data": {
      "text/plain": [
       "<seaborn.axisgrid.FacetGrid at 0x1bd10150b08>"
      ]
     },
     "execution_count": 30,
     "metadata": {},
     "output_type": "execute_result"
    },
    {
     "data": {
      "image/png": "[encoded data removed]",
      "text/plain": [
       "<Figure size 360x360 with 1 Axes>"
      ]
     },
     "metadata": {
      "needs_background": "light"
     },
     "output_type": "display_data"
    }
   ],
   "source": [
    "sns.relplot(x = d_values, y=rc_values, kind='line')"
   ]
  },
  {
   "cell_type": "code",
   "execution_count": 31,
   "metadata": {},
   "outputs": [
    {
     "name": "stdout",
     "output_type": "stream",
     "text": [
      "0.0\n",
      "0.00390625\n",
      "0.00390625\n",
      "0.0625\n",
      "0.0625\n",
      "0.31640625\n",
      "0.31640625\n",
      "1\n",
      "1\n"
     ]
    }
   ],
   "source": [
    "print(closest_approach_reward(-1, 0))\n",
    "print(closest_approach_reward(-1, SAFE_DISTANCE/4))\n",
    "print(closest_approach_reward(-1, -SAFE_DISTANCE/4))\n",
    "print(closest_approach_reward(-1, SAFE_DISTANCE/2))\n",
    "print(closest_approach_reward(-1, -SAFE_DISTANCE/2))\n",
    "print(closest_approach_reward(-1, 3*SAFE_DISTANCE/4))\n",
    "print(closest_approach_reward(-1, -3*SAFE_DISTANCE/4))\n",
    "print(closest_approach_reward(-1, SAFE_DISTANCE))\n",
    "print(closest_approach_reward(-1, -SAFE_DISTANCE))"
   ]
  },
  {
   "cell_type": "code",
   "execution_count": 32,
   "metadata": {},
   "outputs": [],
   "source": [
    "# Plan deviation reward"
   ]
  },
  {
   "cell_type": "code",
   "execution_count": 33,
   "metadata": {},
   "outputs": [],
   "source": [
    "def plan_deviation_reward(d_dev, exp=0.5):\n",
    "    # d_dev can be positive or negative, depending on the side of the deviation (up or down)\n",
    "    d_dev = abs(d_dev)\n",
    "    d_goal_init = (WIDTH - GOAL_RADIUS) - (2 * AIRCRAFT_SIZE)\n",
    "    d_dev_max = d_goal_init / 2\n",
    "    if d_dev > d_dev_max:\n",
    "        return 0\n",
    "    else:\n",
    "        return (1 - d_dev / d_dev_max) ** exp"
   ]
  },
  {
   "cell_type": "code",
   "execution_count": 34,
   "metadata": {},
   "outputs": [],
   "source": [
    "d_values = np.linspace(-3*d_goal_init/4, 3*d_goal_init/4, 300)\n",
    "rd_values = np.array([plan_deviation_reward(x) for x in d_values])"
   ]
  },
  {
   "cell_type": "code",
   "execution_count": 35,
   "metadata": {},
   "outputs": [
    {
     "data": {
      "text/plain": [
       "<seaborn.axisgrid.FacetGrid at 0x1bd101c5fc8>"
      ]
     },
     "execution_count": 35,
     "metadata": {},
     "output_type": "execute_result"
    },
    {
     "data": {
      "image/png": "[encoded data removed]",
      "text/plain": [
       "<Figure size 360x360 with 1 Axes>"
      ]
     },
     "metadata": {
      "needs_background": "light"
     },
     "output_type": "display_data"
    }
   ],
   "source": [
    "sns.relplot(x = d_values, y=rd_values, kind='line')"
   ]
  },
  {
   "cell_type": "code",
   "execution_count": 36,
   "metadata": {},
   "outputs": [
    {
     "name": "stdout",
     "output_type": "stream",
     "text": [
      "1.0\n",
      "0.9422581744350746\n",
      "0.9422581744350746\n",
      "0.8807388571985678\n",
      "0.8807388571985678\n",
      "0.7425643872142526\n",
      "0.7425643872142526\n",
      "0.7071067811865476\n",
      "0.7071067811865476\n",
      "0.5773502691896258\n",
      "0.5773502691896258\n",
      "0.0\n",
      "0.0\n"
     ]
    }
   ],
   "source": [
    "print(plan_deviation_reward(0))\n",
    "print(plan_deviation_reward(COLLISION_RADIUS))\n",
    "print(plan_deviation_reward(-COLLISION_RADIUS))\n",
    "print(plan_deviation_reward(GOAL_RADIUS))\n",
    "print(plan_deviation_reward(-GOAL_RADIUS))\n",
    "print(plan_deviation_reward(SAFE_DISTANCE))\n",
    "print(plan_deviation_reward(-SAFE_DISTANCE))\n",
    "print(plan_deviation_reward(d_goal_init/4))\n",
    "print(plan_deviation_reward(-d_goal_init/4))\n",
    "print(plan_deviation_reward(d_goal_init/3))\n",
    "print(plan_deviation_reward(-d_goal_init/3))\n",
    "print(plan_deviation_reward(d_goal_init/2))\n",
    "print(plan_deviation_reward(-d_goal_init/2))"
   ]
  },
  {
   "cell_type": "code",
   "execution_count": null,
   "metadata": {},
   "outputs": [],
   "source": []
  }
 ],
 "metadata": {
  "kernelspec": {
   "display_name": "Python 3",
   "language": "python",
   "name": "python3"
  },
  "language_info": {
   "codemirror_mode": {
    "name": "ipython",
    "version": 3
   },
   "file_extension": ".py",
   "mimetype": "text/x-python",
   "name": "python",
   "nbconvert_exporter": "python",
   "pygments_lexer": "ipython3",
   "version": "3.7.10"
  }
 },
 "nbformat": 4,
 "nbformat_minor": 2
}
